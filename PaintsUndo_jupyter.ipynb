{
  "cells": [
    {
      "cell_type": "markdown",
      "metadata": {
        "id": "view-in-github",
        "colab_type": "text"
      },
      "source": [
        "<a href=\"https://colab.research.google.com/github/kazse1/Challenge-1-One-/blob/main/PaintsUndo_jupyter.ipynb\" target=\"_parent\"><img src=\"https://colab.research.google.com/assets/colab-badge.svg\" alt=\"Open In Colab\"/></a>"
      ]
    },
    {
      "cell_type": "code",
      "execution_count": 6,
      "metadata": {
        "id": "VjYy0F2gZIPR",
        "outputId": "b1e42383-9918-4824-9278-a429440fac21",
        "colab": {
          "base_uri": "https://localhost:8080/"
        }
      },
      "outputs": [
        {
          "output_type": "stream",
          "name": "stdout",
          "text": [
            "/content\n",
            "fatal: destination path 'Paints-UNDO' already exists and is not an empty directory.\n",
            "/content/Paints-UNDO\n",
            "Traceback (most recent call last):\n",
            "  File \"/content/Paints-UNDO/gradio_app.py\", line 19, in <module>\n",
            "    from diffusers_helper.code_cond import unet_add_coded_conds\n",
            "  File \"/content/Paints-UNDO/diffusers_helper/code_cond.py\", line 3, in <module>\n",
            "    from diffusers.models.embeddings import TimestepEmbedding, Timesteps\n",
            "  File \"/usr/local/lib/python3.11/dist-packages/diffusers/__init__.py\", line 5, in <module>\n",
            "    from .utils import (\n",
            "  File \"/usr/local/lib/python3.11/dist-packages/diffusers/utils/__init__.py\", line 38, in <module>\n",
            "    from .dynamic_modules_utils import get_class_from_dynamic_module\n",
            "  File \"/usr/local/lib/python3.11/dist-packages/diffusers/utils/dynamic_modules_utils.py\", line 28, in <module>\n",
            "    from huggingface_hub import cached_download, hf_hub_download, model_info\n",
            "ImportError: cannot import name 'cached_download' from 'huggingface_hub' (/usr/local/lib/python3.11/dist-packages/huggingface_hub/__init__.py)\n"
          ]
        }
      ],
      "source": [
        "%cd /content\n",
        "!git clone -b dev https://github.com/camenduru/Paints-UNDO\n",
        "%cd /content/Paints-UNDO\n",
        "!pip install -q diffusers==0.28.0 transformers==4.41.1 gradio==4.31.5 bitsandbytes==0.43.1 accelerate==0.30.1 tensorboardX einops peft onnxruntime av\n",
        "!pip install -q xformers==0.0.26.post1\n",
        "!python gradio_app.py"
      ]
    }
  ],
  "metadata": {
    "accelerator": "GPU",
    "colab": {
      "gpuType": "T4",
      "provenance": [],
      "include_colab_link": true
    },
    "kernelspec": {
      "display_name": "Python 3",
      "name": "python3"
    },
    "language_info": {
      "name": "python"
    }
  },
  "nbformat": 4,
  "nbformat_minor": 0
}